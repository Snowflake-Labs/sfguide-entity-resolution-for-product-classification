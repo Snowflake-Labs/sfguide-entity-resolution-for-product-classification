{
 "metadata": {
  "kernelspec": {
   "display_name": "Streamlit Notebook",
   "name": "streamlit"
  }
 },
 "nbformat_minor": 5,
 "nbformat": 4,
 "cells": [
  {
   "cell_type": "markdown",
   "id": "f5f8dd1d-f08b-45b6-9b95-f393321246e0",
   "metadata": {
    "collapsed": false,
    "name": "overview",
    "resultHeight": 141
   },
   "source": "# Retail Product Classification- Entity Resolution from Text\n\nThis solution demonstrates how data harmonization and entity resolution can be achieved using Snowflake's AI features.\nWe will be streamlining the process by quickly generating proposed product matches, and using LLM functions to validate them."
  },
  {
   "cell_type": "code",
   "execution_count": null,
   "id": "68373e6d-84c8-4f7a-bc82-2660645d79c4",
   "metadata": {
    "collapsed": false,
    "language": "python",
    "name": "imports",
    "resultHeight": 0
   },
   "outputs": [],
   "source": [
    "# Import python packages\n",
    "import streamlit as st\n",
    "\n",
    "from snowflake.core import Root\n",
    "\n",
    "# We can also use Snowpark for our analyses!\n",
    "from snowflake.snowpark.context import get_active_session\n",
    "\n",
    "session = get_active_session()\n",
    "root = Root(session)\n",
    "session.query_tag = {\"origin\":\"sf_sit-is\",\n",
    "                     \"name\":\"entity_resolution\",\n",
    "                     \"version\":{\"major\":1, \"minor\":0},\n",
    "                     \"attributes\":{\"is_quickstart\":0, \"source\":\"notebook\"}}\n",
    "\n",
    "db = session.get_current_database().strip('\"')\n",
    "wh = session.get_current_warehouse().strip('\"')\n",
    "prefix = session.get_current_warehouse().strip('\"').split(\"_DS_WH\")[0]"
   ]
  },
  {
   "cell_type": "code",
   "execution_count": null,
   "id": "77d5e110-a3ba-428f-a90c-401bd0ca32f1",
   "metadata": {
    "language": "python",
    "name": "scale_warehouse",
    "resultHeight": 0
   },
   "outputs": [],
   "source": [
    "sql_command = f\"ALTER WAREHOUSE {wh} SET WAREHOUSE_SIZE = 'XXLarge'\"\n",
    "session.sql(sql_command).collect()"
   ]
  },
  {
   "cell_type": "code",
   "execution_count": null,
   "id": "a029a384-5de6-4a9f-940c-a93feb82c7ba",
   "metadata": {
    "codeCollapsed": false,
    "collapsed": false,
    "language": "python",
    "name": "role_and_schema",
    "resultHeight": 0
   },
   "outputs": [],
   "source": [
    "session.sql(f\"USE ROLE ACCOUNTADMIN\").collect()\n",
    "session.sql(f\"CREATE SCHEMA IF NOT EXISTS {db}.MATCH\").collect()\n",
    "session.sql(f\"USE SCHEMA {db}.MATCH\").collect()"
   ]
  },
  {
   "cell_type": "markdown",
   "id": "7bd0b154-9633-4ad0-b80a-fea48d621d08",
   "metadata": {
    "collapsed": false,
    "name": "product_datasets",
    "resultHeight": 181
   },
   "source": "### Preparing Datasets\nTo begin, we'll be creating tables from a product dataset from Similarweb Ltd, a provider on Snowflake Marketplace. Specifically, we'll be focused on products from Office Depot and Staples, which are more likely to have product matches for our use case. \n\nAs we create these tables, we'll be cleaning the product titles then generating vector embeddings from them using one of Snowflake's `CORTEX.EMBED_TEXT_768` function!"
  },
  {
   "cell_type": "code",
   "execution_count": null,
   "id": "a2b117df-36e7-492a-9c3e-b8a2506c15be",
   "metadata": {
    "collapsed": false,
    "language": "sql",
    "name": "staples_products",
    "resultHeight": 0
   },
   "outputs": [],
   "source": [
    "CREATE OR REPLACE TABLE staples_products AS\n",
    "SELECT \n",
    "    SITE,\n",
    "    PRODUCT,\n",
    "    TITLE,\n",
    "    REGEXP_REPLACE(TITLE, '[^a-zA-Z0-9 ]', '') AS CLEANED_TITLE,\n",
    "    BRAND,\n",
    "    MAIN_CATEGORY,\n",
    "    REGEXP_REPLACE(SUB_CATEGORY, '^Home - ', '') AS SUB_CATEGORY,\n",
    "    SUM(ESTIMATED_VIEWS) AS ESTIMATED_VIEWS,\n",
    "    SUM(ESTIMATED_PURCHASES) AS ESTIMATED_PURCHASES,\n",
    "    SNOWFLAKE.CORTEX.EMBED_TEXT_768('snowflake-arctic-embed-m', CLEANED_TITLE) AS cleaned_title_embedding\n",
    "FROM AMAZON_AND_ECOMMERCE_WEBSITES_PRODUCT_VIEWS_AND_PURCHASES.datafeeds.product_views_and_purchases\n",
    "WHERE SITE like 'staples.com'\n",
    "    AND TITLE not like '%N/A%'\n",
    "    AND TITLE not like ''\n",
    "    AND BRAND not like '%N/A%'\n",
    "    AND MAIN_CATEGORY not like '%N/A%'\n",
    "    AND SUB_CATEGORY not like '%N/A%'\n",
    "GROUP BY PRODUCT, TITLE, CLEANED_TITLE, SITE, BRAND, MAIN_CATEGORY, SUB_CATEGORY;"
   ]
  },
  {
   "cell_type": "code",
   "execution_count": null,
   "id": "f3001463-03e0-4608-9886-ca1c2be0020f",
   "metadata": {
    "collapsed": false,
    "language": "sql",
    "name": "staples_view",
    "resultHeight": 0
   },
   "outputs": [],
   "source": [
    "SELECT *\n",
    "FROM STAPLES_PRODUCTS\n",
    "limit 50;"
   ]
  },
  {
   "cell_type": "code",
   "execution_count": null,
   "id": "b9362004-b8a3-4346-a74d-24d90ed536dd",
   "metadata": {
    "collapsed": false,
    "language": "sql",
    "name": "officedepot_prods",
    "resultHeight": 0
   },
   "outputs": [],
   "source": [
    "CREATE OR REPLACE TABLE officedepot_products AS\n",
    "SELECT \n",
    "    SITE,\n",
    "    PRODUCT,\n",
    "    TITLE,\n",
    "    REGEXP_REPLACE(TITLE, '[^a-zA-Z0-9 ]', '') AS CLEANED_TITLE,\n",
    "    BRAND,\n",
    "    MAIN_CATEGORY,\n",
    "    SUB_CATEGORY,\n",
    "    SUM(ESTIMATED_VIEWS) AS ESTIMATED_VIEWS,\n",
    "    SUM(ESTIMATED_PURCHASES) AS ESTIMATED_PURCHASES,\n",
    "    SNOWFLAKE.CORTEX.EMBED_TEXT_768('snowflake-arctic-embed-m', CLEANED_TITLE) AS cleaned_title_embedding\n",
    "FROM AMAZON_AND_ECOMMERCE_WEBSITES_PRODUCT_VIEWS_AND_PURCHASES.datafeeds.product_views_and_purchases\n",
    "WHERE SITE like 'officedepot.com'\n",
    "    AND TITLE not like '%N/A%'\n",
    "    AND TITLE not like ''\n",
    "    AND BRAND not like '%N/A%'\n",
    "    AND MAIN_CATEGORY not like '%N/A%'\n",
    "    AND SUB_CATEGORY not like '%N/A%'\n",
    "GROUP BY PRODUCT, TITLE, CLEANED_TITLE, SITE, BRAND, MAIN_CATEGORY, SUB_CATEGORY;"
   ]
  },
  {
   "cell_type": "code",
   "execution_count": null,
   "id": "c0d8cc31-7542-4cbf-a7de-f695750e1717",
   "metadata": {
    "language": "sql",
    "name": "cleaned_titles",
    "resultHeight": 0
   },
   "outputs": [],
   "source": [
    "SELECT TITLE, CLEANED_TITLE\n",
    "from OFFICEDEPOT_PRODUCTS\n",
    "limit 5;"
   ]
  },
  {
   "cell_type": "markdown",
   "id": "d71be837-a968-47f2-aa5a-c617aa70af85",
   "metadata": {
    "collapsed": false,
    "name": "similarity_scores_md",
    "resultHeight": 113
   },
   "source": "### Vector Cosine Similarity\nHere, we are creating a table of the vector cosine similarity scores between the two product tables using their brands as a prerequisite. This narrows down the amount of computing time significantly, and doesn't lose us any matches in the process."
  },
  {
   "cell_type": "code",
   "execution_count": null,
   "id": "a7f09cee-6863-4764-be00-6c2e1f1e6724",
   "metadata": {
    "collapsed": false,
    "language": "sql",
    "name": "similarity_scores",
    "resultHeight": 0
   },
   "outputs": [],
   "source": [
    "CREATE OR REPLACE TABLE SIMILARITY_SCORES AS\n",
    "SELECT\n",
    "    s.PRODUCT AS STAPLES_PRODUCT_CODE,\n",
    "    s.TITLE AS STAPLES_TITLE,\n",
    "    s.CLEANED_TITLE AS STAPLES_CLEANED_TITLE,\n",
    "    s.BRAND AS STAPLES_BRAND,\n",
    "    s.MAIN_CATEGORY AS STAPLES_MAIN_CATEGORY,\n",
    "    s.SUB_CATEGORY AS STAPLES_SUB_CATEGORY,\n",
    "    s.ESTIMATED_VIEWS AS STAPLES_EST_VIEWS,\n",
    "    s.ESTIMATED_PURCHASES AS STAPLES_EST_PURCHASES,\n",
    "    od.PRODUCT AS OFFICE_PRODUCT_CODE,\n",
    "    od.TITLE AS OFFICE_TITLE,\n",
    "    od.CLEANED_TITLE AS OFFICE_CLEANED_TITLE,\n",
    "    od.BRAND AS OFFICE_BRAND,\n",
    "    od.MAIN_CATEGORY AS OFFICE_MAIN_CATEGORY,\n",
    "    od.SUB_CATEGORY AS OFFICE_SUB_CATEGORY,\n",
    "    od.ESTIMATED_VIEWS AS OFFICE_DEPOT_EST_VIEWS,\n",
    "    od.ESTIMATED_PURCHASES AS OFFICE_DEPOT_EST_PURCHASES,\n",
    "    VECTOR_COSINE_SIMILARITY(s.CLEANED_TITLE_EMBEDDING, od.CLEANED_TITLE_EMBEDDING) AS SIMILARITY_SCORE\n",
    "FROM STAPLES_PRODUCTS s\n",
    "INNER JOIN OFFICEDEPOT_PRODUCTS od\n",
    "    ON s.BRAND = od.BRAND;"
   ]
  },
  {
   "cell_type": "markdown",
   "id": "370e585b-e3d0-47a3-ba23-eb4836b6093b",
   "metadata": {
    "collapsed": false,
    "name": "min_score",
    "resultHeight": 155
   },
   "source": "### Similarity Score Threshold - 0.9\n\nHere we are setting a minimum score for the product pairs to further consider them as viable matches.\n\nNote: Product pairs at lower thresholds such as 0.8 are still potential matches, but the runtime of this notebook rapidly increases to over an hour as the threshold is lowered. You are free to experiment with the thresholds, just keep an eye on the runtime!"
  },
  {
   "cell_type": "code",
   "execution_count": null,
   "id": "ebedcc84-d903-4f86-bf3a-66e3b861a50c",
   "metadata": {
    "collapsed": false,
    "language": "sql",
    "name": "view_similarity_scores",
    "resultHeight": 0
   },
   "outputs": [],
   "source": [
    "SELECT * \n",
    "FROM SIMILARITY_SCORES\n",
    "WHERE SIMILARITY_SCORE > 0.9\n",
    "ORDER BY SIMILARITY_SCORE DESC\n",
    "limit 100;"
   ]
  },
  {
   "cell_type": "markdown",
   "id": "07749362-ba76-4108-9542-a8a07f202958",
   "metadata": {
    "collapsed": false,
    "name": "top_matches_md",
    "resultHeight": 41
   },
   "source": "Since we only want to match each product once, let's first take the product with the highest similarity score:"
  },
  {
   "cell_type": "code",
   "execution_count": null,
   "id": "07d3acfd-216c-4513-9a5f-e2acb2a7708b",
   "metadata": {
    "collapsed": false,
    "language": "sql",
    "name": "top_matches",
    "resultHeight": 0
   },
   "outputs": [],
   "source": [
    "CREATE OR REPLACE TABLE TOP_MATCHES AS\n",
    "SELECT\n",
    "    STAPLES_PRODUCT_CODE AS STAPLES_ID,\n",
    "    STAPLES_TITLE,\n",
    "    STAPLES_BRAND,\n",
    "    STAPLES_MAIN_CATEGORY,\n",
    "    STAPLES_SUB_CATEGORY,\n",
    "    STAPLES_EST_VIEWS,\n",
    "    STAPLES_EST_PURCHASES,\n",
    "    OFFICE_PRODUCT_CODE AS OFFICE_ID,\n",
    "    OFFICE_TITLE,\n",
    "    OFFICE_BRAND,\n",
    "    OFFICE_MAIN_CATEGORY,\n",
    "    OFFICE_SUB_CATEGORY,\n",
    "    OFFICE_DEPOT_EST_VIEWS,\n",
    "    OFFICE_DEPOT_EST_PURCHASES,\n",
    "    SIMILARITY_SCORE\n",
    "FROM SIMILARITY_SCORES\n",
    "QUALIFY ROW_NUMBER() OVER (PARTITION BY STAPLES_PRODUCT_CODE ORDER BY SIMILARITY_SCORE DESC) <= 1;"
   ]
  },
  {
   "cell_type": "code",
   "execution_count": null,
   "id": "0b7ffcd7-7ddb-4972-9a76-755c36d0e5c5",
   "metadata": {
    "collapsed": false,
    "language": "sql",
    "name": "matched_products",
    "resultHeight": 0
   },
   "outputs": [],
   "source": [
    "CREATE OR REPLACE TABLE MATCHED_PRODUCTS AS\n",
    "SELECT *\n",
    "FROM TOP_MATCHES\n",
    "WHERE SIMILARITY_SCORE > 0.9;"
   ]
  },
  {
   "cell_type": "markdown",
   "id": "5170e323-b3eb-4482-ba91-1c676eac4b98",
   "metadata": {
    "collapsed": false,
    "name": "reviewing_matches",
    "resultHeight": 366
   },
   "source": "## AI-driven Entity Resolution\n\n### Here we use Mistral via Snowflake's `SNOWFLAKE.CORTEX.COMPLETE` function to evaluate matches and provide structured outputs based on its decision.\nThe model is taking into consideration both product descriptions and brands to ensure they are truly an identical match. It returns a few different values for us:\n- A boolean indicating if the pair is truly a match down to every detail\n- A string containing either a unified product title or a list of differences between the product based on the boolean\n- A unified brand for both products\n- A unified sub-category\n\n\nNote: A variety of models were experimented with when developing this solution, with mistral-large performing best. You may experiment with others and alter the prompt as needed!"
  },
  {
   "cell_type": "code",
   "execution_count": null,
   "id": "30c9bfcd-35f2-4b17-822d-40245ef30a5c",
   "metadata": {
    "collapsed": false,
    "language": "sql",
    "name": "reviewed_matches",
    "resultHeight": 0
   },
   "outputs": [],
   "source": [
    "CREATE OR REPLACE TABLE REVIEWED_MATCHES AS\n",
    "SELECT\n",
    "    m.STAPLES_ID,\n",
    "    m.STAPLES_TITLE,\n",
    "    m.STAPLES_BRAND,\n",
    "    REGEXP_REPLACE(m.STAPLES_SUB_CATEGORY, '^Home - ', '') AS STAPLES_SUB_CATEGORY,\n",
    "    m.STAPLES_EST_VIEWS,\n",
    "    m.STAPLES_EST_PURCHASES,\n",
    "    m.OFFICE_ID,\n",
    "    m.OFFICE_TITLE,\n",
    "    m.OFFICE_BRAND,\n",
    "    REGEXP_REPLACE(m.OFFICE_SUB_CATEGORY, '^Home - ', '') AS OFFICE_SUB_CATEGORY,\n",
    "    m.OFFICE_DEPOT_EST_VIEWS,\n",
    "    m.OFFICE_DEPOT_EST_PURCHASES,\n",
    "    m.SIMILARITY_SCORE,\n",
    "    SNOWFLAKE.CORTEX.COMPLETE(\n",
    "        'mistral-large',\n",
    "        CONCAT(\n",
    "        'We are performing product matching across two datasets. The goal is to determine if the products described by their titles are identical, meaning they represent the same real-world item. ',\n",
    "            'Focus solely on the product titles when deciding whether the products are a match. Do not base the match decision on sub-category. ',\n",
    "            'After determining whether the titles match, provide unified values for brand and sub-category. ',\n",
    "            'For the sub-category, adhere to these guidelines: ',\n",
    "            '- Assign each product to one of the following categories: ',\n",
    "            '\"Adhesives & Fasteners\", \"Appliances\", \"Arts & Crafts\", \"Audio & Video Equipment\", ',\n",
    "            '\"Bags, Briefcases & Luggage\", \"Batteries & Power\", \"Beverages & Snacks\", \"Breakroom Supplies\", ',\n",
    "            '\"Cleaning Supplies & Chemicals\", \"Computer Accessories & Peripherals\", \"Computers & Tablets\", ',\n",
    "            '\"Data Storage\", \"Education Supplies\", \"Electronics & Networking\", \"Facilities Maintenance\", ',\n",
    "            '\"Foodservice Supplies\", \"Furniture\", \"Games, Toys & Entertainment\", \"Hand & Power Tools\", ',\n",
    "            '\"Healthcare & Safety Supplies\", \"Home Automation & Security\", \"Janitorial Supplies\", ',\n",
    "            '\"Kitchen Supplies\", \"Networking & WiFi\", \"Office Decor & Furniture\", \"Office Machines\", ',\n",
    "            '\"Office Supplies\", \"Paint Supplies\", \"Paper Products\", \"Party Supplies & Decor\", ',\n",
    "            '\"Phones & Accessories\", \"Printer Ink & Toner\", \"Projectors & Office Machines\", ',\n",
    "            '\"Retail & Store Supplies\", \"Safety Equipment\", \"Shipping Supplies\", \"Smart Home & Security\", ',\n",
    "            '\"Tools & Hardware\", \"Writing Supplies & Instruments\". ',\n",
    "            '- Use only these categories and consolidate similar sub-categories into one of the categories above. ',\n",
    "            '- Remove prefixes like \"Home - \" or \"Office - \". Use only the core category name, e.g., \"Paint Supplies\" instead of \"Home - Paint Supplies\". ',\n",
    "            'Analyze the following data and provide a response with four distinct pieces of information: ',\n",
    "            '1. A boolean indicating whether the products are a match (true/false). ',\n",
    "            '2. A unified product title that represents both products if they match, or a concise list of the differences between the titles if they do not match, for example \"Size, Color, Quantity\". ',\n",
    "            '3. A unified brand based on the brand of both the products. ',\n",
    "            '4. A unified sub-category based on the given sub-categories of both products, following the guidelines provided. ',\n",
    "            'The response should be in the following JSON format: ',\n",
    "            '{\"is_match\": true/false, \"unified_title\": \"<unified title or differences>\", \"unified_brand\": \"<brand or empty>\", \"unified_sub_category\": \"<sub category or empty>\"} ',\n",
    "            'Ensure that the output is **valid JSON**, with no extra spaces or newlines before or after the JSON object. ',\n",
    "            'If the products are a match, provide unified values for title, brand, and sub-category. ',\n",
    "            'If the products are not a match, only the \"unified_title\" should describe the differences; the other fields should be unified or left blank. ',\n",
    "            'Product 1: \"', m.STAPLES_TITLE, '\" (Brand 1: \"', m.STAPLES_BRAND, '\", Sub-Category 1: \"', STAPLES_SUB_CATEGORY, '\"). ',\n",
    "            'Product 2: \"', m.OFFICE_TITLE, '\" (Brand 1: \"', m.OFFICE_BRAND, '\", Sub-Category 1: \"', OFFICE_SUB_CATEGORY, '\").'\n",
    "        )\n",
    "    ) AS MATCH_DECISION\n",
    "FROM MATCHED_PRODUCTS m;\n"
   ]
  },
  {
   "cell_type": "markdown",
   "id": "19716e5f-5869-4c81-abc1-68799c62cc55",
   "metadata": {
    "collapsed": false,
    "name": "processing_matches",
    "resultHeight": 41
   },
   "source": "From there we must parse the structured json outputs from the LLM into separate columns."
  },
  {
   "cell_type": "code",
   "execution_count": null,
   "id": "1ae8c308-30d6-45d3-9a2d-f91a2731d1c2",
   "metadata": {
    "collapsed": false,
    "language": "sql",
    "name": "processed_matches",
    "resultHeight": 0
   },
   "outputs": [],
   "source": [
    "CREATE OR REPLACE TABLE PROCESSED_MATCHES AS\n",
    "SELECT\n",
    "    STAPLES_ID,\n",
    "    STAPLES_TITLE,\n",
    "    STAPLES_EST_VIEWS,\n",
    "    STAPLES_EST_PURCHASES,\n",
    "    OFFICE_ID,\n",
    "    OFFICE_TITLE,\n",
    "    OFFICE_DEPOT_EST_VIEWS,\n",
    "    OFFICE_DEPOT_EST_PURCHASES,\n",
    "    SIMILARITY_SCORE,\n",
    "    MATCH_DECISION,\n",
    "    TRY_PARSE_JSON(\n",
    "        REGEXP_REPLACE(MATCH_DECISION, '^\\n', '')\n",
    "    ):is_match::BOOLEAN AS IS_MATCH,\n",
    "    TRY_PARSE_JSON(\n",
    "        REGEXP_REPLACE(MATCH_DECISION, '^\\n', '')\n",
    "    ):unified_title::STRING AS MATCH_DETAILS,\n",
    "    TRY_PARSE_JSON(\n",
    "        REGEXP_REPLACE(MATCH_DECISION, '^\\n', '')\n",
    "    ):unified_brand::STRING AS UNIFIED_BRAND,\n",
    "    TRY_PARSE_JSON(\n",
    "        REGEXP_REPLACE(MATCH_DECISION, '^\\n', '')\n",
    "    ):unified_sub_category::STRING AS UNIFIED_CATEGORY\n",
    "FROM REVIEWED_MATCHES\n",
    "WHERE TRY_PARSE_JSON(\n",
    "        REGEXP_REPLACE(MATCH_DECISION, '^\\n', '')\n",
    "    ) IS NOT NULL;\n"
   ]
  },
  {
   "cell_type": "markdown",
   "id": "982102ff-3cdc-4e29-98a1-987dbaba287c",
   "metadata": {
    "name": "processed_md",
    "resultHeight": 41,
    "collapsed": false
   },
   "source": "And now, let's take a look at our processed matches:"
  },
  {
   "cell_type": "code",
   "execution_count": null,
   "id": "9218955e-8373-4dde-8f99-e8b786295e98",
   "metadata": {
    "language": "sql",
    "name": "processed_matches_view",
    "resultHeight": 0
   },
   "outputs": [],
   "source": [
    "SELECT *\n",
    "FROM PROCESSED_MATCHES\n",
    "limit 100"
   ]
  },
  {
   "cell_type": "markdown",
   "id": "86cb4c90-1612-425d-8500-4f7080ec69b2",
   "metadata": {
    "collapsed": false,
    "name": "approved_and_rejected",
    "resultHeight": 83
   },
   "source": "Finally, we are splitting our processed matches into tables based on if they were approved or rejected!\n\nThe approved product matches list their unified titles, whereas the rejected matches list the differences the LLM flagged between them."
  },
  {
   "cell_type": "code",
   "execution_count": null,
   "id": "7eecd244-64b4-4cef-8625-c50fd67ef501",
   "metadata": {
    "collapsed": false,
    "language": "sql",
    "name": "approved_matches",
    "resultHeight": 0
   },
   "outputs": [],
   "source": [
    "CREATE OR REPLACE TABLE APPROVED_MATCHES\n",
    "AS \n",
    "SELECT \n",
    "STAPLES_ID,\n",
    "STAPLES_TITLE,\n",
    "STAPLES_EST_VIEWS,\n",
    "STAPLES_EST_PURCHASES,\n",
    "OFFICE_ID,\n",
    "OFFICE_TITLE,\n",
    "OFFICE_DEPOT_EST_VIEWS,\n",
    "OFFICE_DEPOT_EST_PURCHASES,\n",
    "MATCH_DETAILS AS UNIFIED_TITLE,\n",
    "UNIFIED_BRAND AS UNIFIED_BRAND,\n",
    "UNIFIED_CATEGORY AS UNIFIED_CATEGORY\n",
    "FROM PROCESSED_MATCHES\n",
    "WHERE IS_MATCH = TRUE"
   ]
  },
  {
   "cell_type": "markdown",
   "id": "0636b899-d902-47e8-8f61-59b57d3f81a9",
   "metadata": {
    "name": "data_analyst_md",
    "resultHeight": 41,
    "collapsed": false
   },
   "source": [
    "Let's grant access to this table to the analyst role, which is used to run the chatbot in the next section."
   ]
  },
  {
   "cell_type": "code",
   "execution_count": null,
   "id": "101f3cff-d90b-4d9b-b971-d8fd85ca93dc",
   "metadata": {
    "collapsed": false,
    "language": "python",
    "name": "streamlit_app",
    "resultHeight": 0
   },
   "outputs": [],
   "source": [
    "streamlit_grant = f\"GRANT INSERT, SELECT, DELETE, UPDATE ON MATCH.APPROVED_MATCHES TO {prefix}_DATA_ANALYST\"\n",
    "session.sql(streamlit_grant).collect()"
   ]
  },
  {
   "cell_type": "code",
   "execution_count": null,
   "id": "2dcabe06-d1fa-4266-bbd0-72196d5ea0f8",
   "metadata": {
    "collapsed": false,
    "language": "sql",
    "name": "approved_view",
    "resultHeight": 0
   },
   "outputs": [],
   "source": "SELECT *\nfrom APPROVED_MATCHES\nlimit 100;"
  },
  {
   "cell_type": "code",
   "execution_count": null,
   "id": "c021747b-e050-4315-b970-952d546b9a85",
   "metadata": {
    "collapsed": false,
    "language": "sql",
    "name": "rejected_matches",
    "resultHeight": 0
   },
   "outputs": [],
   "source": [
    "CREATE OR REPLACE TABLE REJECTED_MATCHES\n",
    "AS \n",
    "SELECT \n",
    "STAPLES_ID,\n",
    "STAPLES_TITLE,\n",
    "STAPLES_EST_VIEWS,\n",
    "STAPLES_EST_PURCHASES,\n",
    "OFFICE_ID,\n",
    "OFFICE_TITLE,\n",
    "OFFICE_DEPOT_EST_VIEWS,\n",
    "OFFICE_DEPOT_EST_PURCHASES,\n",
    "MATCH_DETAILS AS PRODUCT_DIFFERENCES,\n",
    "UNIFIED_BRAND AS UNIFIED_BRAND,\n",
    "UNIFIED_CATEGORY AS UNIFIED_CATEGORY\n",
    "FROM PROCESSED_MATCHES\n",
    "WHERE IS_MATCH = FALSE"
   ]
  },
  {
   "cell_type": "code",
   "execution_count": null,
   "id": "76a69fd2-d551-408d-a5ef-a8cb30150dcc",
   "metadata": {
    "collapsed": false,
    "language": "sql",
    "name": "rejected_view",
    "resultHeight": 0
   },
   "outputs": [],
   "source": "SELECT * \nFROM REJECTED_MATCHES\nlimit 100;"
  }
 ]
}
